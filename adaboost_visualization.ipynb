{
 "cells": [
  {
   "cell_type": "code",
   "execution_count": null,
   "metadata": {
    "id": "zYXM0xuk69wS"
   },
   "outputs": [],
   "source": [
    "from sklearn.datasets import load_breast_cancer\n",
    "from sklearn.ensemble import AdaBoostClassifier\n",
    "from sklearn.model_selection import train_test_split\n",
    "from sklearn.metrics import accuracy_score\n",
    "\n",
    "from adaboost import AdaBoost"
   ]
  },
  {
   "cell_type": "code",
   "execution_count": null,
   "metadata": {
    "id": "T1hjltqtZssa"
   },
   "outputs": [],
   "source": [
    "# load and prepare data\n",
    "data = load_breast_cancer()\n",
    "X = data.data\n",
    "y = data.target\n",
    "y[y == 0] = -1\n",
    "X_train, X_test, y_train, y_test = train_test_split(X, y, test_size=0.2, random_state=42)"
   ]
  },
  {
   "cell_type": "code",
   "execution_count": null,
   "metadata": {
    "colab": {
     "base_uri": "https://localhost:8080/"
    },
    "id": "ZxG4SXkGZqM5",
    "outputId": "a7418a15-ce5d-4595-e3e8-0d036582ce1d"
   },
   "outputs": [],
   "source": [
    "# train the library classifiers\n",
    "n_estimators = 4\n",
    "adaboost = AdaBoostClassifier(n_estimators=n_estimators, random_state=42)\n",
    "adaboost.fit(X_train, y_train)\n",
    "y_pred_1 = adaboost.predict(X_test)"
   ]
  },
  {
   "cell_type": "code",
   "execution_count": null,
   "metadata": {
    "colab": {
     "base_uri": "https://localhost:8080/",
     "height": 488
    },
    "id": "Zw7kp2I1Zxnq",
    "outputId": "ebe94dac-d6fa-47a2-a092-754b5c8f7331"
   },
   "outputs": [],
   "source": [
    "# train our implementation\n",
    "adaboost_imp = AdaBoost(n_classifiers=7)\n",
    "adaboost_imp.fit(X_train, y_train)\n",
    "y_pred_2 = adaboost_imp.predict(X_test)\n",
    "\n",
    "# plot results\n",
    "adaboost_imp.plot_results(X, y)"
   ]
  },
  {
   "cell_type": "code",
   "execution_count": null,
   "metadata": {
    "colab": {
     "base_uri": "https://localhost:8080/"
    },
    "id": "M4c0gfuPZ0-f",
    "outputId": "1a049281-c6bf-4ae3-fc2e-f14f5ff861fc"
   },
   "outputs": [],
   "source": [
    "# check accuracy for both implementations\n",
    "acc = accuracy_score(y_test, y_pred_1)\n",
    "print(\"Accuracy (library): \", acc)\n",
    "\n",
    "acc2 = accuracy_score(y_test, y_pred_2)\n",
    "print(\"Our implementation: \", acc2)"
   ]
  }
 ],
 "metadata": {
  "colab": {
   "provenance": []
  },
  "kernelspec": {
   "display_name": "Python 3",
   "name": "python3"
  },
  "language_info": {
   "codemirror_mode": {
    "name": "ipython",
    "version": 3
   },
   "file_extension": ".py",
   "mimetype": "text/x-python",
   "name": "python",
   "nbconvert_exporter": "python",
   "pygments_lexer": "ipython3",
   "version": "3.11.9"
  }
 },
 "nbformat": 4,
 "nbformat_minor": 0
}
